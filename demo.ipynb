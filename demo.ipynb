{
  "cells": [
    {
      "cell_type": "markdown",
      "metadata": {
        "id": "view-in-github",
        "colab_type": "text"
      },
      "source": [
        "<a href=\"https://colab.research.google.com/github/Nadia-Chen/tensorflow-in-Colab/blob/main/demo.ipynb\" target=\"_parent\"><img src=\"https://colab.research.google.com/assets/colab-badge.svg\" alt=\"Open In Colab\"/></a>"
      ]
    },
    {
      "cell_type": "code",
      "execution_count": 1,
      "metadata": {
        "id": "WRPu6Su1SAOW"
      },
      "outputs": [],
      "source": [
        "from flask import Flask"
      ]
    },
    {
      "cell_type": "code",
      "execution_count": 2,
      "metadata": {
        "id": "W7QwBNzSS-eu"
      },
      "outputs": [],
      "source": [
        "app = Flask(__name__)"
      ]
    },
    {
      "cell_type": "code",
      "execution_count": 3,
      "metadata": {
        "id": "yYL1Lj7JTTEV"
      },
      "outputs": [],
      "source": [
        "from flask import request,render_template\n",
        "from keras.models import load_model\n",
        "\n",
        "@app.route(\"/\", methods = [\"GET\",\"POST\"])\n",
        "def index():\n",
        "  if request.method == \"POST\":\n",
        "    NPTA = request.form.get(\"NPTA\")\n",
        "    TLTA = request.form.get(\"TLTA\")\n",
        "    WCTA = request.form.get(\"WCTA\")\n",
        "    print(NPTA,TLTA,WCTA)\n",
        "    model = load_model(\"PredictBankruptcy\")\n",
        "    pred = model.predict([[float(NPTA),float(TLTA),float(WCTA)]])\n",
        "    print(pred)\n",
        "    return render_template(\"index.html\", results = \"PredictBankruptcy\")\n",
        "  else:\n",
        "    return render_template(\"index.html\", results = \"PredictBankruptcy\")"
      ]
    },
    {
      "cell_type": "code",
      "execution_count": 5,
      "metadata": {
        "colab": {
          "base_uri": "https://localhost:8080/"
        },
        "id": "bgPxdtNUT-P8",
        "outputId": "da783df6-d967-4fec-f28b-d60aa93eb213"
      },
      "outputs": [
        {
          "output_type": "stream",
          "name": "stdout",
          "text": [
            " * Serving Flask app '__main__' (lazy loading)\n",
            " * Environment: production\n",
            "\u001b[31m   WARNING: This is a development server. Do not use it in a production deployment.\u001b[0m\n",
            "\u001b[2m   Use a production WSGI server instead.\u001b[0m\n",
            " * Debug mode: off\n"
          ]
        },
        {
          "output_type": "stream",
          "name": "stderr",
          "text": [
            " * Running on http://127.0.0.1:5000/ (Press CTRL+C to quit)\n"
          ]
        }
      ],
      "source": [
        "app.run()"
      ]
    },
    {
      "cell_type": "code",
      "execution_count": null,
      "metadata": {
        "id": "s2b0opSVT_oh"
      },
      "outputs": [],
      "source": [
        ""
      ]
    }
  ],
  "metadata": {
    "colab": {
      "collapsed_sections": [],
      "name": "demo.ipynb",
      "provenance": [],
      "mount_file_id": "18IzO0DxZ2x7H4fRqY-h142wNH1li8LmU",
      "authorship_tag": "ABX9TyNAAb8Nv3U9Hzg1nZOUEXnu",
      "include_colab_link": true
    },
    "kernelspec": {
      "display_name": "Python 3",
      "name": "python3"
    },
    "language_info": {
      "name": "python"
    }
  },
  "nbformat": 4,
  "nbformat_minor": 0
}